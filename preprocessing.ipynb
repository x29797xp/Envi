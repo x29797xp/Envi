{
  "metadata": {
    "kernelspec": {
      "name": "python",
      "display_name": "Python (Pyodide)",
      "language": "python"
    },
    "language_info": {
      "codemirror_mode": {
        "name": "python",
        "version": 3
      },
      "file_extension": ".py",
      "mimetype": "text/x-python",
      "name": "python",
      "nbconvert_exporter": "python",
      "pygments_lexer": "ipython3",
      "version": "3.8"
    }
  },
  "nbformat_minor": 4,
  "nbformat": 4,
  "cells": [
    {
      "cell_type": "code",
      "source": "import pandas as pd\nstore = pd.read_csv('store.csv')",
      "metadata": {
        "trusted": true
      },
      "outputs": [],
      "execution_count": 31
    },
    {
      "cell_type": "code",
      "source": "# Check for missing values\nprint(store.isnull().sum())",
      "metadata": {
        "trusted": true
      },
      "outputs": [
        {
          "name": "stdout",
          "text": "Store                          0\nStoreType                      0\nAssortment                     0\nCompetitionDistance            3\nCompetitionOpenSinceMonth    354\nCompetitionOpenSinceYear     354\nPromo2                         0\nPromo2SinceWeek              544\nPromo2SinceYear              544\nPromoInterval                544\ndtype: int64\n",
          "output_type": "stream"
        }
      ],
      "execution_count": 25
    },
    {
      "cell_type": "code",
      "source": "print(store.dtypes)",
      "metadata": {
        "trusted": true
      },
      "outputs": [
        {
          "name": "stdout",
          "text": "Store                          int64\nStoreType                     object\nAssortment                    object\nCompetitionDistance          float64\nCompetitionOpenSinceMonth    float64\nCompetitionOpenSinceYear     float64\nPromo2                         int64\nPromo2SinceWeek              float64\nPromo2SinceYear              float64\nPromoInterval                 object\ndtype: object\n",
          "output_type": "stream"
        }
      ],
      "execution_count": 26
    },
    {
      "cell_type": "code",
      "source": "train = pd.read_csv('train.csv')",
      "metadata": {
        "trusted": true
      },
      "outputs": [
        {
          "name": "stderr",
          "text": "<ipython-input-32-f1a1f2ce149f>:1: DtypeWarning: Columns (7) have mixed types. Specify dtype option on import or set low_memory=False.\n  train = pd.read_csv('train.csv')\n",
          "output_type": "stream"
        }
      ],
      "execution_count": 32
    },
    {
      "cell_type": "code",
      "source": "train['StateHoliday'].unique()",
      "metadata": {
        "trusted": true
      },
      "outputs": [
        {
          "execution_count": 33,
          "output_type": "execute_result",
          "data": {
            "text/plain": "array(['0', 'a', 'b', 'c', 0], dtype=object)"
          },
          "metadata": {}
        }
      ],
      "execution_count": 33
    },
    {
      "cell_type": "code",
      "source": "#deal with 3 missing value in Competition Distance\nstore_copy = store.copy()\nstore = store.dropna(subset=['CompetitionDistance'])\n\ncorr = store['CompetitionDistance'].corr(train['Sales'])\ncorr\n#Since the correlation between CompetitionDistance and Sales is low,\n#indicating that CompetitionDistance is less likely to significantly impact sales, I decided to drop this feature.",
      "metadata": {
        "trusted": true
      },
      "outputs": [
        {
          "execution_count": 34,
          "output_type": "execute_result",
          "data": {
            "text/plain": "0.004085248059166643"
          },
          "metadata": {}
        }
      ],
      "execution_count": 34
    },
    {
      "cell_type": "code",
      "source": "#store = store.dropna(subset=['CompetitionDistance'])\n#dropping rows with missing values in CompetitionDistance is really the best way? cuase deleting these rows would remove other data for three stores\n#or could drop the CompetitionDistance column entirely or exclude it from the feature selection when predicting.\nstore['CompetitionDistance'] = store['CompetitionDistance'].fillna(store['CompetitionDistance'].mean())",
      "metadata": {
        "trusted": true
      },
      "outputs": [],
      "execution_count": 35
    },
    {
      "cell_type": "code",
      "source": "#deal with 354 missing value in CompetitionOpenSinceMonth & CompetitionOpenSinceYear\n#Since the number of missing values is large, deleting all of them would be inappropriate.\n#Additionally, since the data is not sequential, forward/backward fill is not suitable.\n#Therefore, I will use the median to impute the missing values.\n\nstore['CompetitionOpenSinceYear'] = store['CompetitionOpenSinceYear'].fillna(store['CompetitionOpenSinceYear'].median())\nstore['CompetitionOpenSinceMonth'] = store['CompetitionOpenSinceMonth'].fillna(store['CompetitionOpenSinceMonth'].median())",
      "metadata": {
        "trusted": true
      },
      "outputs": [],
      "execution_count": 36
    },
    {
      "cell_type": "code",
      "source": "#deal with 544 missing value in Promo2SinceWeek,Promo2SinceYear,PromoInterval\n#Since the missing values occur because Promo2 is 0, indicating that the store is not participating in the promotion\n#I will use 0 to fill the missing values.\nstore['Promo2SinceWeek'] = store['Promo2SinceWeek'].fillna(0)\nstore['Promo2SinceYear'] = store['Promo2SinceYear'].fillna(0)\nstore['PromoInterval'] = store['PromoInterval'].fillna('None')\n# last filling is None rather than 0 is for the conveniance of later categoraical encoding. because when I use One K hot, all 0 could mean some month rather than missing value.\n#in order to classify the situation, I will use 'None' to impute",
      "metadata": {
        "trusted": true
      },
      "outputs": [],
      "execution_count": 38
    },
    {
      "cell_type": "code",
      "source": "print(store.isnull().sum())",
      "metadata": {
        "trusted": true
      },
      "outputs": [
        {
          "name": "stdout",
          "text": "Store                        0\nStoreType                    0\nAssortment                   0\nCompetitionDistance          0\nCompetitionOpenSinceMonth    0\nCompetitionOpenSinceYear     0\nPromo2                       0\nPromo2SinceWeek              0\nPromo2SinceYear              0\nPromoInterval                0\ndtype: int64\n",
          "output_type": "stream"
        }
      ],
      "execution_count": 39
    },
    {
      "cell_type": "code",
      "source": "#encode PromoInterval\nmonths = ['Jan', 'Feb', 'Mar', 'Apr', 'May', 'Jun', 'Jul', 'Aug', 'Sep', 'Oct', 'Nov', 'Dec']\n# 函数：将PromoInterval字段的字符串分割，并返回一个包含所有月份的序列，缺失的月份用0填充\ndef encode_promo(promo_str):\n    # 如果是“None”，则返回全部为0的序列\n    if promo_str == 'None':\n        return pd.Series([0] * len(months), index=months)\n    else:\n        # 否则，将字符串分割成列表，并创建一个序列，存在于列表中的月份标记为1，不存在的标记为0\n        promo_list = promo_str.split(',')\n        return pd.Series([1 if month in promo_list else 0 for month in months], index=months)\n\n# 应用函数，并创建新的DataFrame\npromo_encoded = store['PromoInterval'].apply(encode_promo).apply(pd.Series)\n\n# 将新的编码DataFrame与原始DataFrame合并\nstore = pd.concat([store, promo_encoded], axis=1)\n\n# 删除原始的PromoInterval列\nstore.drop('PromoInterval', axis=1, inplace=True)",
      "metadata": {
        "trusted": true
      },
      "outputs": [],
      "execution_count": 41
    },
    {
      "cell_type": "code",
      "source": "print(store.isnull().sum())",
      "metadata": {
        "trusted": true
      },
      "outputs": [
        {
          "name": "stdout",
          "text": "Store                        0\nStoreType                    0\nAssortment                   0\nCompetitionDistance          0\nCompetitionOpenSinceMonth    0\nCompetitionOpenSinceYear     0\nPromo2                       0\nPromo2SinceWeek              0\nPromo2SinceYear              0\nJan                          0\nFeb                          0\nMar                          0\nApr                          0\nMay                          0\nJun                          0\nJul                          0\nAug                          0\nSep                          0\nOct                          0\nNov                          0\nDec                          0\ndtype: int64\n",
          "output_type": "stream"
        }
      ],
      "execution_count": 43
    },
    {
      "cell_type": "code",
      "source": "train = train.merge(store, left_on='Store', right_index=True, how='left')\ntrain = train.drop(columns=['Store_x'])",
      "metadata": {
        "trusted": true
      },
      "outputs": [],
      "execution_count": 56
    },
    {
      "cell_type": "code",
      "source": "train.head(1116)",
      "metadata": {
        "trusted": true
      },
      "outputs": [
        {
          "execution_count": 57,
          "output_type": "execute_result",
          "data": {
            "text/plain": "      Store  DayOfWeek        Date  Sales  Customers  Open  Promo  \\\n0         1          5  31/07/2015   5263        555     1      1   \n1         2          5  31/07/2015   6064        625     1      1   \n2         3          5  31/07/2015   8314        821     1      1   \n3         4          5  31/07/2015  13995       1498     1      1   \n4         5          5  31/07/2015   4822        559     1      1   \n...     ...        ...         ...    ...        ...   ...    ...   \n1111   1112          5  31/07/2015   9626        767     1      1   \n1112   1113          5  31/07/2015   7289        720     1      1   \n1113   1114          5  31/07/2015  27508       3745     1      1   \n1114   1115          5  31/07/2015   8680        538     1      1   \n1115      1          4  30/07/2015   5020        546     1      1   \n\n     StateHoliday  SchoolHoliday  Store_y  ...  Mar  Apr  May  Jun  Jul  Aug  \\\n0               0              1      2.0  ...  0.0  1.0  0.0  0.0  1.0  0.0   \n1               0              1      3.0  ...  0.0  1.0  0.0  0.0  1.0  0.0   \n2               0              1      4.0  ...  0.0  0.0  0.0  0.0  0.0  0.0   \n3               0              1      5.0  ...  0.0  0.0  0.0  0.0  0.0  0.0   \n4               0              1      6.0  ...  0.0  0.0  0.0  0.0  0.0  0.0   \n...           ...            ...      ...  ...  ...  ...  ...  ...  ...  ...   \n1111            0              1   1113.0  ...  0.0  0.0  0.0  0.0  0.0  0.0   \n1112            0              1   1114.0  ...  0.0  0.0  0.0  0.0  0.0  0.0   \n1113            0              1   1115.0  ...  1.0  0.0  0.0  1.0  0.0  0.0   \n1114            0              1      NaN  ...  NaN  NaN  NaN  NaN  NaN  NaN   \n1115            0              1      2.0  ...  0.0  1.0  0.0  0.0  1.0  0.0   \n\n      Sep  Oct  Nov  Dec  \n0     0.0  1.0  0.0  0.0  \n1     0.0  1.0  0.0  0.0  \n2     0.0  0.0  0.0  0.0  \n3     0.0  0.0  0.0  0.0  \n4     0.0  0.0  0.0  0.0  \n...   ...  ...  ...  ...  \n1111  0.0  0.0  0.0  0.0  \n1112  0.0  0.0  0.0  0.0  \n1113  0.0  0.0  0.0  1.0  \n1114  NaN  NaN  NaN  NaN  \n1115  0.0  1.0  0.0  0.0  \n\n[1116 rows x 30 columns]",
            "text/html": "<div>\n<style scoped>\n    .dataframe tbody tr th:only-of-type {\n        vertical-align: middle;\n    }\n\n    .dataframe tbody tr th {\n        vertical-align: top;\n    }\n\n    .dataframe thead th {\n        text-align: right;\n    }\n</style>\n<table border=\"1\" class=\"dataframe\">\n  <thead>\n    <tr style=\"text-align: right;\">\n      <th></th>\n      <th>Store</th>\n      <th>DayOfWeek</th>\n      <th>Date</th>\n      <th>Sales</th>\n      <th>Customers</th>\n      <th>Open</th>\n      <th>Promo</th>\n      <th>StateHoliday</th>\n      <th>SchoolHoliday</th>\n      <th>Store_y</th>\n      <th>...</th>\n      <th>Mar</th>\n      <th>Apr</th>\n      <th>May</th>\n      <th>Jun</th>\n      <th>Jul</th>\n      <th>Aug</th>\n      <th>Sep</th>\n      <th>Oct</th>\n      <th>Nov</th>\n      <th>Dec</th>\n    </tr>\n  </thead>\n  <tbody>\n    <tr>\n      <th>0</th>\n      <td>1</td>\n      <td>5</td>\n      <td>31/07/2015</td>\n      <td>5263</td>\n      <td>555</td>\n      <td>1</td>\n      <td>1</td>\n      <td>0</td>\n      <td>1</td>\n      <td>2.0</td>\n      <td>...</td>\n      <td>0.0</td>\n      <td>1.0</td>\n      <td>0.0</td>\n      <td>0.0</td>\n      <td>1.0</td>\n      <td>0.0</td>\n      <td>0.0</td>\n      <td>1.0</td>\n      <td>0.0</td>\n      <td>0.0</td>\n    </tr>\n    <tr>\n      <th>1</th>\n      <td>2</td>\n      <td>5</td>\n      <td>31/07/2015</td>\n      <td>6064</td>\n      <td>625</td>\n      <td>1</td>\n      <td>1</td>\n      <td>0</td>\n      <td>1</td>\n      <td>3.0</td>\n      <td>...</td>\n      <td>0.0</td>\n      <td>1.0</td>\n      <td>0.0</td>\n      <td>0.0</td>\n      <td>1.0</td>\n      <td>0.0</td>\n      <td>0.0</td>\n      <td>1.0</td>\n      <td>0.0</td>\n      <td>0.0</td>\n    </tr>\n    <tr>\n      <th>2</th>\n      <td>3</td>\n      <td>5</td>\n      <td>31/07/2015</td>\n      <td>8314</td>\n      <td>821</td>\n      <td>1</td>\n      <td>1</td>\n      <td>0</td>\n      <td>1</td>\n      <td>4.0</td>\n      <td>...</td>\n      <td>0.0</td>\n      <td>0.0</td>\n      <td>0.0</td>\n      <td>0.0</td>\n      <td>0.0</td>\n      <td>0.0</td>\n      <td>0.0</td>\n      <td>0.0</td>\n      <td>0.0</td>\n      <td>0.0</td>\n    </tr>\n    <tr>\n      <th>3</th>\n      <td>4</td>\n      <td>5</td>\n      <td>31/07/2015</td>\n      <td>13995</td>\n      <td>1498</td>\n      <td>1</td>\n      <td>1</td>\n      <td>0</td>\n      <td>1</td>\n      <td>5.0</td>\n      <td>...</td>\n      <td>0.0</td>\n      <td>0.0</td>\n      <td>0.0</td>\n      <td>0.0</td>\n      <td>0.0</td>\n      <td>0.0</td>\n      <td>0.0</td>\n      <td>0.0</td>\n      <td>0.0</td>\n      <td>0.0</td>\n    </tr>\n    <tr>\n      <th>4</th>\n      <td>5</td>\n      <td>5</td>\n      <td>31/07/2015</td>\n      <td>4822</td>\n      <td>559</td>\n      <td>1</td>\n      <td>1</td>\n      <td>0</td>\n      <td>1</td>\n      <td>6.0</td>\n      <td>...</td>\n      <td>0.0</td>\n      <td>0.0</td>\n      <td>0.0</td>\n      <td>0.0</td>\n      <td>0.0</td>\n      <td>0.0</td>\n      <td>0.0</td>\n      <td>0.0</td>\n      <td>0.0</td>\n      <td>0.0</td>\n    </tr>\n    <tr>\n      <th>...</th>\n      <td>...</td>\n      <td>...</td>\n      <td>...</td>\n      <td>...</td>\n      <td>...</td>\n      <td>...</td>\n      <td>...</td>\n      <td>...</td>\n      <td>...</td>\n      <td>...</td>\n      <td>...</td>\n      <td>...</td>\n      <td>...</td>\n      <td>...</td>\n      <td>...</td>\n      <td>...</td>\n      <td>...</td>\n      <td>...</td>\n      <td>...</td>\n      <td>...</td>\n      <td>...</td>\n    </tr>\n    <tr>\n      <th>1111</th>\n      <td>1112</td>\n      <td>5</td>\n      <td>31/07/2015</td>\n      <td>9626</td>\n      <td>767</td>\n      <td>1</td>\n      <td>1</td>\n      <td>0</td>\n      <td>1</td>\n      <td>1113.0</td>\n      <td>...</td>\n      <td>0.0</td>\n      <td>0.0</td>\n      <td>0.0</td>\n      <td>0.0</td>\n      <td>0.0</td>\n      <td>0.0</td>\n      <td>0.0</td>\n      <td>0.0</td>\n      <td>0.0</td>\n      <td>0.0</td>\n    </tr>\n    <tr>\n      <th>1112</th>\n      <td>1113</td>\n      <td>5</td>\n      <td>31/07/2015</td>\n      <td>7289</td>\n      <td>720</td>\n      <td>1</td>\n      <td>1</td>\n      <td>0</td>\n      <td>1</td>\n      <td>1114.0</td>\n      <td>...</td>\n      <td>0.0</td>\n      <td>0.0</td>\n      <td>0.0</td>\n      <td>0.0</td>\n      <td>0.0</td>\n      <td>0.0</td>\n      <td>0.0</td>\n      <td>0.0</td>\n      <td>0.0</td>\n      <td>0.0</td>\n    </tr>\n    <tr>\n      <th>1113</th>\n      <td>1114</td>\n      <td>5</td>\n      <td>31/07/2015</td>\n      <td>27508</td>\n      <td>3745</td>\n      <td>1</td>\n      <td>1</td>\n      <td>0</td>\n      <td>1</td>\n      <td>1115.0</td>\n      <td>...</td>\n      <td>1.0</td>\n      <td>0.0</td>\n      <td>0.0</td>\n      <td>1.0</td>\n      <td>0.0</td>\n      <td>0.0</td>\n      <td>0.0</td>\n      <td>0.0</td>\n      <td>0.0</td>\n      <td>1.0</td>\n    </tr>\n    <tr>\n      <th>1114</th>\n      <td>1115</td>\n      <td>5</td>\n      <td>31/07/2015</td>\n      <td>8680</td>\n      <td>538</td>\n      <td>1</td>\n      <td>1</td>\n      <td>0</td>\n      <td>1</td>\n      <td>NaN</td>\n      <td>...</td>\n      <td>NaN</td>\n      <td>NaN</td>\n      <td>NaN</td>\n      <td>NaN</td>\n      <td>NaN</td>\n      <td>NaN</td>\n      <td>NaN</td>\n      <td>NaN</td>\n      <td>NaN</td>\n      <td>NaN</td>\n    </tr>\n    <tr>\n      <th>1115</th>\n      <td>1</td>\n      <td>4</td>\n      <td>30/07/2015</td>\n      <td>5020</td>\n      <td>546</td>\n      <td>1</td>\n      <td>1</td>\n      <td>0</td>\n      <td>1</td>\n      <td>2.0</td>\n      <td>...</td>\n      <td>0.0</td>\n      <td>1.0</td>\n      <td>0.0</td>\n      <td>0.0</td>\n      <td>1.0</td>\n      <td>0.0</td>\n      <td>0.0</td>\n      <td>1.0</td>\n      <td>0.0</td>\n      <td>0.0</td>\n    </tr>\n  </tbody>\n</table>\n<p>1116 rows × 30 columns</p>\n</div>"
          },
          "metadata": {}
        }
      ],
      "execution_count": 57
    },
    {
      "cell_type": "code",
      "source": "test = pd.read_csv('test.csv')",
      "metadata": {
        "trusted": true
      },
      "outputs": [],
      "execution_count": 62
    },
    {
      "cell_type": "code",
      "source": "test = test.merge(store, left_on='Store', right_index=True, how='left')\ntest = test.drop(columns=['Store_x'])",
      "metadata": {
        "trusted": true
      },
      "outputs": [],
      "execution_count": 63
    },
    {
      "cell_type": "code",
      "source": "test.head(1115)",
      "metadata": {
        "trusted": true
      },
      "outputs": [
        {
          "execution_count": 64,
          "output_type": "execute_result",
          "data": {
            "text/plain": "      Store  DayOfWeek        Date  Sales  Customers  Open  Promo  \\\n0         1          4  17/09/2015    NaN        NaN   1.0      1   \n1         3          4  17/09/2015    NaN        NaN   1.0      1   \n2         7          4  17/09/2015    NaN        NaN   1.0      1   \n3         8          4  17/09/2015    NaN        NaN   1.0      1   \n4         9          4  17/09/2015    NaN        NaN   1.0      1   \n...     ...        ...         ...    ...        ...   ...    ...   \n1110    333          3  16/09/2015    NaN        NaN   1.0      1   \n1111    334          3  16/09/2015    NaN        NaN   1.0      1   \n1112    335          3  16/09/2015    NaN        NaN   1.0      1   \n1113    336          3  16/09/2015    NaN        NaN   1.0      1   \n1114    337          3  16/09/2015    NaN        NaN   1.0      1   \n\n     StateHoliday  SchoolHoliday  Store_y  ...  Mar  Apr  May  Jun  Jul  Aug  \\\n0               0              0      2.0  ...  0.0  1.0  0.0  0.0  1.0  0.0   \n1               0              0      4.0  ...  0.0  0.0  0.0  0.0  0.0  0.0   \n2               0              0      8.0  ...  0.0  0.0  0.0  0.0  0.0  0.0   \n3               0              0      9.0  ...  0.0  0.0  0.0  0.0  0.0  0.0   \n4               0              0     10.0  ...  0.0  0.0  0.0  0.0  0.0  0.0   \n...           ...            ...      ...  ...  ...  ...  ...  ...  ...  ...   \n1110            0              0    334.0  ...  1.0  0.0  0.0  1.0  0.0  0.0   \n1111            0              0    335.0  ...  0.0  1.0  0.0  0.0  1.0  0.0   \n1112            0              0    336.0  ...  0.0  0.0  0.0  0.0  0.0  0.0   \n1113            0              0    337.0  ...  0.0  0.0  1.0  0.0  0.0  1.0   \n1114            0              0    338.0  ...  0.0  1.0  0.0  0.0  1.0  0.0   \n\n      Sep  Oct  Nov  Dec  \n0     0.0  1.0  0.0  0.0  \n1     0.0  0.0  0.0  0.0  \n2     0.0  0.0  0.0  0.0  \n3     0.0  0.0  0.0  0.0  \n4     0.0  0.0  0.0  0.0  \n...   ...  ...  ...  ...  \n1110  0.0  0.0  0.0  1.0  \n1111  0.0  1.0  0.0  0.0  \n1112  0.0  0.0  0.0  0.0  \n1113  0.0  0.0  1.0  0.0  \n1114  0.0  1.0  0.0  0.0  \n\n[1115 rows x 30 columns]",
            "text/html": "<div>\n<style scoped>\n    .dataframe tbody tr th:only-of-type {\n        vertical-align: middle;\n    }\n\n    .dataframe tbody tr th {\n        vertical-align: top;\n    }\n\n    .dataframe thead th {\n        text-align: right;\n    }\n</style>\n<table border=\"1\" class=\"dataframe\">\n  <thead>\n    <tr style=\"text-align: right;\">\n      <th></th>\n      <th>Store</th>\n      <th>DayOfWeek</th>\n      <th>Date</th>\n      <th>Sales</th>\n      <th>Customers</th>\n      <th>Open</th>\n      <th>Promo</th>\n      <th>StateHoliday</th>\n      <th>SchoolHoliday</th>\n      <th>Store_y</th>\n      <th>...</th>\n      <th>Mar</th>\n      <th>Apr</th>\n      <th>May</th>\n      <th>Jun</th>\n      <th>Jul</th>\n      <th>Aug</th>\n      <th>Sep</th>\n      <th>Oct</th>\n      <th>Nov</th>\n      <th>Dec</th>\n    </tr>\n  </thead>\n  <tbody>\n    <tr>\n      <th>0</th>\n      <td>1</td>\n      <td>4</td>\n      <td>17/09/2015</td>\n      <td>NaN</td>\n      <td>NaN</td>\n      <td>1.0</td>\n      <td>1</td>\n      <td>0</td>\n      <td>0</td>\n      <td>2.0</td>\n      <td>...</td>\n      <td>0.0</td>\n      <td>1.0</td>\n      <td>0.0</td>\n      <td>0.0</td>\n      <td>1.0</td>\n      <td>0.0</td>\n      <td>0.0</td>\n      <td>1.0</td>\n      <td>0.0</td>\n      <td>0.0</td>\n    </tr>\n    <tr>\n      <th>1</th>\n      <td>3</td>\n      <td>4</td>\n      <td>17/09/2015</td>\n      <td>NaN</td>\n      <td>NaN</td>\n      <td>1.0</td>\n      <td>1</td>\n      <td>0</td>\n      <td>0</td>\n      <td>4.0</td>\n      <td>...</td>\n      <td>0.0</td>\n      <td>0.0</td>\n      <td>0.0</td>\n      <td>0.0</td>\n      <td>0.0</td>\n      <td>0.0</td>\n      <td>0.0</td>\n      <td>0.0</td>\n      <td>0.0</td>\n      <td>0.0</td>\n    </tr>\n    <tr>\n      <th>2</th>\n      <td>7</td>\n      <td>4</td>\n      <td>17/09/2015</td>\n      <td>NaN</td>\n      <td>NaN</td>\n      <td>1.0</td>\n      <td>1</td>\n      <td>0</td>\n      <td>0</td>\n      <td>8.0</td>\n      <td>...</td>\n      <td>0.0</td>\n      <td>0.0</td>\n      <td>0.0</td>\n      <td>0.0</td>\n      <td>0.0</td>\n      <td>0.0</td>\n      <td>0.0</td>\n      <td>0.0</td>\n      <td>0.0</td>\n      <td>0.0</td>\n    </tr>\n    <tr>\n      <th>3</th>\n      <td>8</td>\n      <td>4</td>\n      <td>17/09/2015</td>\n      <td>NaN</td>\n      <td>NaN</td>\n      <td>1.0</td>\n      <td>1</td>\n      <td>0</td>\n      <td>0</td>\n      <td>9.0</td>\n      <td>...</td>\n      <td>0.0</td>\n      <td>0.0</td>\n      <td>0.0</td>\n      <td>0.0</td>\n      <td>0.0</td>\n      <td>0.0</td>\n      <td>0.0</td>\n      <td>0.0</td>\n      <td>0.0</td>\n      <td>0.0</td>\n    </tr>\n    <tr>\n      <th>4</th>\n      <td>9</td>\n      <td>4</td>\n      <td>17/09/2015</td>\n      <td>NaN</td>\n      <td>NaN</td>\n      <td>1.0</td>\n      <td>1</td>\n      <td>0</td>\n      <td>0</td>\n      <td>10.0</td>\n      <td>...</td>\n      <td>0.0</td>\n      <td>0.0</td>\n      <td>0.0</td>\n      <td>0.0</td>\n      <td>0.0</td>\n      <td>0.0</td>\n      <td>0.0</td>\n      <td>0.0</td>\n      <td>0.0</td>\n      <td>0.0</td>\n    </tr>\n    <tr>\n      <th>...</th>\n      <td>...</td>\n      <td>...</td>\n      <td>...</td>\n      <td>...</td>\n      <td>...</td>\n      <td>...</td>\n      <td>...</td>\n      <td>...</td>\n      <td>...</td>\n      <td>...</td>\n      <td>...</td>\n      <td>...</td>\n      <td>...</td>\n      <td>...</td>\n      <td>...</td>\n      <td>...</td>\n      <td>...</td>\n      <td>...</td>\n      <td>...</td>\n      <td>...</td>\n      <td>...</td>\n    </tr>\n    <tr>\n      <th>1110</th>\n      <td>333</td>\n      <td>3</td>\n      <td>16/09/2015</td>\n      <td>NaN</td>\n      <td>NaN</td>\n      <td>1.0</td>\n      <td>1</td>\n      <td>0</td>\n      <td>0</td>\n      <td>334.0</td>\n      <td>...</td>\n      <td>1.0</td>\n      <td>0.0</td>\n      <td>0.0</td>\n      <td>1.0</td>\n      <td>0.0</td>\n      <td>0.0</td>\n      <td>0.0</td>\n      <td>0.0</td>\n      <td>0.0</td>\n      <td>1.0</td>\n    </tr>\n    <tr>\n      <th>1111</th>\n      <td>334</td>\n      <td>3</td>\n      <td>16/09/2015</td>\n      <td>NaN</td>\n      <td>NaN</td>\n      <td>1.0</td>\n      <td>1</td>\n      <td>0</td>\n      <td>0</td>\n      <td>335.0</td>\n      <td>...</td>\n      <td>0.0</td>\n      <td>1.0</td>\n      <td>0.0</td>\n      <td>0.0</td>\n      <td>1.0</td>\n      <td>0.0</td>\n      <td>0.0</td>\n      <td>1.0</td>\n      <td>0.0</td>\n      <td>0.0</td>\n    </tr>\n    <tr>\n      <th>1112</th>\n      <td>335</td>\n      <td>3</td>\n      <td>16/09/2015</td>\n      <td>NaN</td>\n      <td>NaN</td>\n      <td>1.0</td>\n      <td>1</td>\n      <td>0</td>\n      <td>0</td>\n      <td>336.0</td>\n      <td>...</td>\n      <td>0.0</td>\n      <td>0.0</td>\n      <td>0.0</td>\n      <td>0.0</td>\n      <td>0.0</td>\n      <td>0.0</td>\n      <td>0.0</td>\n      <td>0.0</td>\n      <td>0.0</td>\n      <td>0.0</td>\n    </tr>\n    <tr>\n      <th>1113</th>\n      <td>336</td>\n      <td>3</td>\n      <td>16/09/2015</td>\n      <td>NaN</td>\n      <td>NaN</td>\n      <td>1.0</td>\n      <td>1</td>\n      <td>0</td>\n      <td>0</td>\n      <td>337.0</td>\n      <td>...</td>\n      <td>0.0</td>\n      <td>0.0</td>\n      <td>1.0</td>\n      <td>0.0</td>\n      <td>0.0</td>\n      <td>1.0</td>\n      <td>0.0</td>\n      <td>0.0</td>\n      <td>1.0</td>\n      <td>0.0</td>\n    </tr>\n    <tr>\n      <th>1114</th>\n      <td>337</td>\n      <td>3</td>\n      <td>16/09/2015</td>\n      <td>NaN</td>\n      <td>NaN</td>\n      <td>1.0</td>\n      <td>1</td>\n      <td>0</td>\n      <td>0</td>\n      <td>338.0</td>\n      <td>...</td>\n      <td>0.0</td>\n      <td>1.0</td>\n      <td>0.0</td>\n      <td>0.0</td>\n      <td>1.0</td>\n      <td>0.0</td>\n      <td>0.0</td>\n      <td>1.0</td>\n      <td>0.0</td>\n      <td>0.0</td>\n    </tr>\n  </tbody>\n</table>\n<p>1115 rows × 30 columns</p>\n</div>"
          },
          "metadata": {}
        }
      ],
      "execution_count": 64
    }
  ]
}